{
 "cells": [
  {
   "cell_type": "code",
   "execution_count": 1,
   "id": "b75664a6",
   "metadata": {},
   "outputs": [
    {
     "name": "stdout",
     "output_type": "stream",
     "text": [
      "Enter 1 for Addition\n",
      "Enter 2 for Subtraction\n",
      "Enter 3 for Diviion\n",
      "Enter 4 for Multiplition\n",
      "Enter 5 for Power\n",
      "Enter 0 for Exit\n",
      "Enter: 1\n",
      "Enter Number 1: 25\n",
      "Enter number 2: 2\n",
      "Answer: 27.0\n",
      "Enter 1 for Addition\n",
      "Enter 2 for Subtraction\n",
      "Enter 3 for Diviion\n",
      "Enter 4 for Multiplition\n",
      "Enter 5 for Power\n",
      "Enter 0 for Exit\n",
      "Enter: 3\n",
      "Enter Number 1: 2\n",
      "Enter number 2: 3\n",
      "Answer: 6.0\n",
      "Enter 1 for Addition\n",
      "Enter 2 for Subtraction\n",
      "Enter 3 for Diviion\n",
      "Enter 4 for Multiplition\n",
      "Enter 5 for Power\n",
      "Enter 0 for Exit\n",
      "Enter: 0\n"
     ]
    }
   ],
   "source": [
    "# Make a calculator using Python with addition , subtraction ,multiplication ,division and power.\n",
    "i = 1\n",
    "while i!= 0 :\n",
    "    print(\"Enter 1 for Addition\")\n",
    "    print(\"Enter 2 for Subtraction\")\n",
    "    print(\"Enter 3 for Diviion\")\n",
    "    print(\"Enter 4 for Multiplition\")\n",
    "    print(\"Enter 5 for Power\")\n",
    "    print(\"Enter 0 for Exit\")\n",
    "    i = int(input(\"Enter: \"))\n",
    "    \n",
    "    if i==1:\n",
    "        a = float(input(\"Enter Number 1: \"))\n",
    "        b = float(input(\"Enter number 2: \"))\n",
    "        answer = a + b\n",
    "        print(\"Answer: \" + str(answer))\n",
    "    if i==2:\n",
    "        a = float(input(\"Enter Number 1: \"))\n",
    "        b = float(input(\"Enter number 2: \"))\n",
    "        answer = a - b\n",
    "        print(\"Answer: \" + str(answer))\n",
    "    if i==3:\n",
    "        a = float(input(\"Enter Number 1: \"))\n",
    "        b = float(input(\"Enter number 2: \"))\n",
    "        answer = a * b\n",
    "        print(\"Answer: \" + str(answer))\n",
    "    if i==4:\n",
    "        a = float(input(\"Enter Number 1: \"))\n",
    "        b = float(input(\"Enter number 2: \"))\n",
    "        answer = a / b\n",
    "        print(\"Answer: \" + str(answer))\n",
    "        \n",
    "    if i==5:\n",
    "        a = float(input(\"Enter Number : \"))\n",
    "        b = float(input(\"Enter Power: \"))\n",
    "        answer = a ** b\n",
    "        print(\"Answer: \" + str(answer) + \"\\n\")\n",
    "    "
   ]
  },
  {
   "cell_type": "code",
   "execution_count": 2,
   "id": "6ef85eab",
   "metadata": {},
   "outputs": [
    {
     "name": "stdout",
     "output_type": "stream",
     "text": [
      "2\n",
      "3\n",
      "9\n"
     ]
    }
   ],
   "source": [
    "# Write a program to check if there is any numeric value in list using for loop\n",
    "list = [\"Ali\", 2, 3, \"Ahmed\", 9]\n",
    "for i in range(len(list)):\n",
    "    if type(list[i]) == int:\n",
    "        print(list[i])\n"
   ]
  },
  {
   "cell_type": "code",
   "execution_count": 3,
   "id": "0f8d12e6",
   "metadata": {},
   "outputs": [
    {
     "name": "stdout",
     "output_type": "stream",
     "text": [
      "Enter number of keys: 1\n",
      "Enter Key: 4\n",
      "Enter value: raza\n",
      "{1: 'ahmed', 2: 'ali', 3: 'amir', '4': 'raza'}\n"
     ]
    }
   ],
   "source": [
    "# Write a Python script to add a key to a dictionary\n",
    "dict1 = {1: \"ahmed\", 2:\"ali\", 3:\"amir\"}\n",
    "length = int(input(\"Enter number of keys: \"))\n",
    "for i in range(length):\n",
    "    a = (input(\"Enter Key: \"))\n",
    "    b = (input(\"Enter value: \"))\n",
    "    dict1[a] = b\n",
    "print(dict1)\n"
   ]
  },
  {
   "cell_type": "code",
   "execution_count": 4,
   "id": "11d193d3",
   "metadata": {},
   "outputs": [
    {
     "name": "stdout",
     "output_type": "stream",
     "text": [
      "Sum: 30\n"
     ]
    }
   ],
   "source": [
    "# Write a Python program to sum all the numeric items in a dictionary \n",
    "a = {1:10, 2:\"ali\", 3:20}\n",
    "s = 0\n",
    "for i in a.values():\n",
    "    if type(i) == int:\n",
    "        s = s + i\n",
    "print(\"Sum: \" + str(s))"
   ]
  },
  {
   "cell_type": "code",
   "execution_count": 5,
   "id": "794ae42a",
   "metadata": {},
   "outputs": [
    {
     "name": "stdout",
     "output_type": "stream",
     "text": [
      "Ali Umer "
     ]
    }
   ],
   "source": [
    "# Write a program to identify duplicate values from list\n",
    "list=[\"Ali\",\"Umer\",\"Khalid\",\"Osama\",\"Ali\",\"Umer\"]\n",
    "list1=[]\n",
    "for item in list:\n",
    "    if item not in list1:\n",
    "        list1.append(item)\n",
    "    else:\n",
    "        print(item,end=' ')\n"
   ]
  },
  {
   "cell_type": "code",
   "execution_count": 6,
   "id": "a33642c8",
   "metadata": {},
   "outputs": [
    {
     "name": "stdout",
     "output_type": "stream",
     "text": [
      "Enter key you want to look: brand\n",
      "Given key exist\n"
     ]
    }
   ],
   "source": [
    "# Write a Python script to check if a given key already exists in a dictionary\n",
    "dict1={ \"name\":\"x\",\"brand\":\"ford\",\"model\":324}\n",
    "a= input(\"Enter key you want to look: \")\n",
    "if a in dict1:\n",
    "    print(\"Given key exist\")\n",
    "else:\n",
    "    print(\"Given key doesnot exist\")"
   ]
  },
  {
   "cell_type": "code",
   "execution_count": null,
   "id": "550afbac",
   "metadata": {},
   "outputs": [],
   "source": []
  }
 ],
 "metadata": {
  "kernelspec": {
   "display_name": "Python 3",
   "language": "python",
   "name": "python3"
  },
  "language_info": {
   "codemirror_mode": {
    "name": "ipython",
    "version": 3
   },
   "file_extension": ".py",
   "mimetype": "text/x-python",
   "name": "python",
   "nbconvert_exporter": "python",
   "pygments_lexer": "ipython3",
   "version": "3.8.8"
  }
 },
 "nbformat": 4,
 "nbformat_minor": 5
}
