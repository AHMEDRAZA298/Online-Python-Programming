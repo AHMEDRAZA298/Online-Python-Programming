{
 "cells": [
  {
   "cell_type": "code",
   "execution_count": 1,
   "id": "6d2d42a0",
   "metadata": {},
   "outputs": [
    {
     "name": "stdout",
     "output_type": "stream",
     "text": [
      "Twinkle,twinkle,little star,\n",
      "          How I wonder what you are!,\n",
      "               Up above the world so high,\n",
      "               Like a diamond in the sky. ,\n",
      "Twinkle,twinkle,little star,\n",
      "How I wonder what you are!\n"
     ]
    }
   ],
   "source": [
    "# Write a Python program to print the following string in a specific format (see the output)\n",
    "a= \"Twinkle,twinkle,little star\";\n",
    "b= \"How I wonder what you are!\";\n",
    "c= \"Up above the world so high\";\n",
    "d= \"Like a diamond in the sky. \";\n",
    "print(a+\",\\n          \"+b+\",\\n               \"+c+\",\\n               \"+d+\",\\n\"+a+\",\\n\"+b)"
   ]
  },
  {
   "cell_type": "code",
   "execution_count": 2,
   "id": "d7b4e7bc",
   "metadata": {},
   "outputs": [
    {
     "name": "stdout",
     "output_type": "stream",
     "text": [
      "The current version of python using is:  3.4.7\n"
     ]
    }
   ],
   "source": [
    "# Write a Python program to get the Python version you are using\n",
    "a= \"3.4.7\"\n",
    "print(\"The current version of python using is:  \" +str(a))"
   ]
  },
  {
   "cell_type": "code",
   "execution_count": 3,
   "id": "af99d4c4",
   "metadata": {},
   "outputs": [
    {
     "name": "stdout",
     "output_type": "stream",
     "text": [
      "The current date is: 24\tJanuary\t2022\tThe current time is: 9:00 pm\n"
     ]
    }
   ],
   "source": [
    "# Write a Python program to display the current date and time.\n",
    "a= 24;                 #current date\n",
    "b= \"January\";          #current month\n",
    "c= \"2022\";             #current Year\n",
    "d= \"9:00 pm\";          #current time\n",
    "print(\"The current date is: \" +str(a)+ \"\\t\" + b +\"\\t\"+ c + \"\\t\"+\"The current time is: \"+d)"
   ]
  },
  {
   "cell_type": "code",
   "execution_count": 4,
   "id": "3b2cd257",
   "metadata": {},
   "outputs": [
    {
     "name": "stdout",
     "output_type": "stream",
     "text": [
      "Enter radius of circle: 2\n",
      "12.568\n"
     ]
    }
   ],
   "source": [
    "# Write a Python program which accepts the radius of a circle from the user and compute the area\n",
    "radius=int(input(\"Enter radius of circle: \"));\n",
    "constant=3.142;\n",
    "area=constant*(radius**2);\n",
    "print(area)"
   ]
  },
  {
   "cell_type": "code",
   "execution_count": 5,
   "id": "755ad474",
   "metadata": {},
   "outputs": [
    {
     "name": "stdout",
     "output_type": "stream",
     "text": [
      "Enter your first name: AHMED\n",
      "Enter your last name:  RAZA\n",
      "RAZA\tAHMED\n"
     ]
    }
   ],
   "source": [
    "# Write a Python program which accepts the user's first and last name and print them in reverse order with space between them.\n",
    "a= input(\"Enter your first name: \");\n",
    "b= input(\"Enter your last name:  \");\n",
    "print(b+\"\\t\"+a)"
   ]
  },
  {
   "cell_type": "code",
   "execution_count": 7,
   "id": "db6bd9ee",
   "metadata": {},
   "outputs": [
    {
     "name": "stdout",
     "output_type": "stream",
     "text": [
      "Enter the name of organization where you work:  Fauji Fertilizer\n",
      "Enter the amount of salary you recieved:   50,000\n",
      "You work in:  Fauji Fertilizer with paid of:  50,000\n"
     ]
    }
   ],
   "source": [
    "# Write a Python program which takes two inputs from user and print them addition\n",
    "a= input(\"Enter the name of organization where you work:  \")\n",
    "b= input(\"Enter the amount of salary you recieved:   \")\n",
    "print(\"You work in: \", a, \"with paid of: \",b)"
   ]
  },
  {
   "cell_type": "code",
   "execution_count": null,
   "id": "35d064f5",
   "metadata": {},
   "outputs": [],
   "source": []
  }
 ],
 "metadata": {
  "kernelspec": {
   "display_name": "Python 3",
   "language": "python",
   "name": "python3"
  },
  "language_info": {
   "codemirror_mode": {
    "name": "ipython",
    "version": 3
   },
   "file_extension": ".py",
   "mimetype": "text/x-python",
   "name": "python",
   "nbconvert_exporter": "python",
   "pygments_lexer": "ipython3",
   "version": "3.8.8"
  }
 },
 "nbformat": 4,
 "nbformat_minor": 5
}
